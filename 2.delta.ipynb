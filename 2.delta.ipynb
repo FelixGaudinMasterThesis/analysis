{
 "cells": [
  {
   "cell_type": "code",
   "execution_count": null,
   "metadata": {},
   "outputs": [],
   "source": [
    "import json\n",
    "import os\n",
    "import matplotlib.pyplot as plt\n",
    "import matplotlib.ticker as ticker\n",
    "import pandas as pd\n",
    "import folium\n",
    "import ipinfo\n",
    "import numpy as np"
   ]
  },
  {
   "cell_type": "code",
   "execution_count": null,
   "metadata": {},
   "outputs": [],
   "source": [
    "def get_df(folders):\n",
    "    df = pd.read_csv(os.path.join(\"data\", \"delta.csv\"))\n",
    "    return df"
   ]
  },
  {
   "cell_type": "code",
   "execution_count": null,
   "metadata": {},
   "outputs": [],
   "source": [
    "df = get_df([\"memoire-vps-output\", \"memoire-vps-output2\"])"
   ]
  },
  {
   "cell_type": "code",
   "execution_count": null,
   "metadata": {},
   "outputs": [],
   "source": [
    "df"
   ]
  },
  {
   "cell_type": "code",
   "execution_count": null,
   "metadata": {},
   "outputs": [],
   "source": [
    "df.describe()"
   ]
  },
  {
   "cell_type": "code",
   "execution_count": null,
   "metadata": {},
   "outputs": [],
   "source": [
    "delta_df = pd.DataFrame({\n",
    "    \"ip\": df[\"ip\"],\n",
    "    \"isp\": df[\"isp\"],\n",
    "    \"dist\": df[\"dist\"],\n",
    "    \"ping\" : df[\"ping\"],\n",
    "    \"ping_rpm\" : df[\"ping_as_rpm\"],\n",
    "    \"dl_bw\": df[\"dl_bw\"],\n",
    "    \"ul_bw\": df[\"ul_bw\"],\n",
    "    \"dl_rpm\" : df[\"dl_rpm\"],\n",
    "    \"delta_dl_rpm\": df.apply(lambda r: r[\"ping_as_rpm\"] - r[\"dl_rpm\"], axis=1),\n",
    "    \"ratio_dl_rpm\": df.apply(lambda r: r[\"ping_as_rpm\"]/r[\"dl_rpm\"], axis=1),\n",
    "    \"ul_rpm\": df[\"ul_rpm\"],\n",
    "    \"delta_ul_rpm\": df.apply(lambda r: r[\"ping_as_rpm\"] - r[\"ul_rpm\"], axis=1),\n",
    "    \"ratio_ul_rpm\": df.apply(lambda r: r[\"ping_as_rpm\"]/r[\"ul_rpm\"], axis=1),\n",
    "})\n"
   ]
  },
  {
   "cell_type": "code",
   "execution_count": null,
   "metadata": {},
   "outputs": [],
   "source": [
    "delta_df"
   ]
  },
  {
   "cell_type": "code",
   "execution_count": null,
   "metadata": {},
   "outputs": [],
   "source": [
    "delta_df.describe()"
   ]
  },
  {
   "cell_type": "code",
   "execution_count": null,
   "metadata": {},
   "outputs": [],
   "source": [
    "dfbis = delta_df[[\"ping\", \"ping_rpm\", \"dl_bw\", \"ul_bw\", \"delta_dl_rpm\", \"delta_ul_rpm\", \"ratio_dl_rpm\", \"ratio_ul_rpm\"]]\n",
    "z_scores = np.abs((dfbis - dfbis.mean()) / dfbis.std())\n",
    "dfbis = dfbis[(z_scores < 3).all(axis=1)]"
   ]
  },
  {
   "cell_type": "code",
   "execution_count": null,
   "metadata": {},
   "outputs": [],
   "source": [
    "def make_cdf(values, title, xlabel):\n",
    "    sorted_values = np.sort(values)\n",
    "    cdf = np.arange(len(sorted_values)) / len(sorted_values)\n",
    "    # cumsum = np.cumsum(sorted_values)\n",
    "    # norm_cumsum = cumsum / cumsum[-1]\n",
    "\n",
    "    plt.plot(sorted_values, cdf)\n",
    "    # plt.title(title)\n",
    "    plt.xlabel(xlabel)\n",
    "    plt.ylabel(\"Cumulative Probability\")\n",
    "\n",
    "    plt.xlim(xmin=0)\n",
    "    plt.grid()\n"
   ]
  },
  {
   "cell_type": "code",
   "execution_count": null,
   "metadata": {},
   "outputs": [],
   "source": [
    "make_cdf(\n",
    "    delta_df[\"delta_dl_rpm\"].values,\n",
    "    title =\"CDF of the estimated latency on loaded download\", \n",
    "    xlabel=\"Latency estimation (in RPM lost)\"\n",
    "    )\n",
    "plt.savefig(\"output/delta_dl.pdf\")"
   ]
  },
  {
   "cell_type": "code",
   "execution_count": null,
   "metadata": {},
   "outputs": [],
   "source": [
    "make_cdf(\n",
    "    delta_df[\"ratio_dl_rpm\"].values,\n",
    "    title=\"CDF of the estimated factor of latency increase on loaded download\",\n",
    "    xlabel=\"Factor of increase\"\n",
    ")\n",
    "plt.savefig(\"output/ratio_dl.pdf\")\n",
    "plt.xlim(xmax=25)\n",
    "plt.savefig(\"output/ratio_dl_limit.pdf\")"
   ]
  },
  {
   "cell_type": "code",
   "execution_count": null,
   "metadata": {},
   "outputs": [],
   "source": [
    "make_cdf(\n",
    "    delta_df[\"delta_ul_rpm\"].values,\n",
    "    title=\"CDF of the estimated latency on loaded upload\",\n",
    "    xlabel=\"Latency estimation (in RPM lost)\"\n",
    "    )\n",
    "plt.savefig(\"output/delta_ul.pdf\")"
   ]
  },
  {
   "cell_type": "code",
   "execution_count": null,
   "metadata": {},
   "outputs": [],
   "source": [
    "make_cdf(\n",
    "    delta_df[\"ratio_ul_rpm\"].values,\n",
    "    title=\"CDF of the estimated latency on loaded upload\",\n",
    "    xlabel=\"Factor of increase\"\n",
    "    )\n",
    "plt.savefig(\"output/ratio_ul.pdf\")\n",
    "plt.xlim(xmax=25)\n",
    "plt.savefig(\"output/ratio_ul_limit.pdf\")"
   ]
  },
  {
   "cell_type": "code",
   "execution_count": null,
   "metadata": {},
   "outputs": [],
   "source": [
    "for isp in sorted(delta_df[\"isp\"].unique()):\n",
    "    print(isp)"
   ]
  },
  {
   "cell_type": "code",
   "execution_count": null,
   "metadata": {},
   "outputs": [],
   "source": [
    "MIN_NUMBER_OF_TESTS = 5"
   ]
  },
  {
   "cell_type": "code",
   "execution_count": null,
   "metadata": {},
   "outputs": [],
   "source": [
    "isp_count = [(isp, len(delta_df.loc[delta_df[\"isp\"] == isp])) for isp in delta_df[\"isp\"].unique()]\n",
    "\n",
    "for isp, count in sorted(isp_count, key=lambda x:(x[1], x[0]), reverse=True):\n",
    "    if count >= MIN_NUMBER_OF_TESTS:\n",
    "        print(f\"{isp} -> {count}\")"
   ]
  },
  {
   "cell_type": "code",
   "execution_count": null,
   "metadata": {},
   "outputs": [],
   "source": [
    "delta_percent_upload = []\n",
    "delta_percent_download = []\n",
    "names = []\n",
    "\n",
    "for isp, count in sorted(isp_count, key=lambda x:(x[1], x[0]), reverse=True):\n",
    "    if count >= MIN_NUMBER_OF_TESTS:\n",
    "        delta_percent_upload.append(\n",
    "            delta_df.loc[delta_df[\"isp\"] == isp][\"ratio_ul_rpm\"].values\n",
    "        )\n",
    "        delta_percent_download.append(\n",
    "            delta_df.loc[delta_df[\"isp\"] == isp][\"ratio_dl_rpm\"].values\n",
    "        )\n",
    "        names.append(isp)"
   ]
  },
  {
   "cell_type": "code",
   "execution_count": null,
   "metadata": {},
   "outputs": [],
   "source": [
    "fig, (ax1, ax2) = plt.subplots(1, 2, sharey=True, figsize=(20, 7))\n",
    "\n",
    "ax1.boxplot(\n",
    "    delta_percent_upload, \n",
    "    vert=False)\n",
    "ax1.set_yticks(list(range(1, len(names) + 1)), names)\n",
    "ax1.set_title(\"upload\")\n",
    "ax1.grid()\n",
    "\n",
    "ax2.boxplot(delta_percent_download, vert=False)\n",
    "ax2.set_yticks(list(range(1, len(names) + 1)), names)\n",
    "ax2.set_title(\"download\")\n",
    "ax2.grid()\n",
    "\n",
    "ax1.set_xscale('log')\n",
    "ax1.xaxis.set_major_formatter(ticker.FuncFormatter(lambda y,pos: ('{{:.{:1d}f}}'.format(int(np.maximum(-np.log10(y),0)))).format(y)))\n",
    "ax2.set_xscale('log')\n",
    "ax2.xaxis.set_major_formatter(ticker.FuncFormatter(lambda y, pos: (\n",
    "    '{{:.{:1d}f}}'.format(int(np.maximum(-np.log10(y), 0)))).format(y)))\n",
    "\n",
    "# ax1.set_ylim(\n",
    "#     ymin=0,\n",
    "#     ymax=20 \n",
    "# )\n",
    "fig.supxlabel(\"Factor (log scale)\")\n",
    "# fig.supylabel(\"ISP sorted by their number of tests\")\n",
    "fig.suptitle(f\"Factor of latency increase for ISP who have at least {MIN_NUMBER_OF_TESTS} tests\")\n",
    "\n",
    "plt.subplots_adjust(wspace=0.01, hspace=0)\n",
    "plt.show()"
   ]
  },
  {
   "cell_type": "code",
   "execution_count": null,
   "metadata": {},
   "outputs": [],
   "source": [
    "dists = []\n",
    "means_bb_upload = []\n",
    "std_bb_upload = []\n",
    "means_bb_download = []\n",
    "std_bb_download = []\n",
    "\n",
    "\n",
    "for dist in sorted(delta_df[\"dist\"].unique()):\n",
    "    if dist < 100000000000:\n",
    "        dists.append(dist)\n",
    "        bb_uploads = delta_df.loc[delta_df[\"dist\"] == dist][\"ratio_ul_rpm\"].values\n",
    "        means_bb_upload.append(np.mean(bb_uploads))\n",
    "        std_bb_upload.append(np.std(bb_uploads))\n",
    "        bb_downloads = delta_df.loc[delta_df[\"dist\"] == dist][\"ratio_dl_rpm\"].values\n",
    "        means_bb_download.append(np.mean(bb_downloads))\n",
    "        std_bb_download.append(np.std(bb_downloads))"
   ]
  },
  {
   "cell_type": "code",
   "execution_count": null,
   "metadata": {},
   "outputs": [],
   "source": [
    "fig, (ax1, ax2) = plt.subplots(2, 1)\n",
    "\n",
    "ax1.plot(dists, means_bb_upload, label=\"upload\")\n",
    "ax2.plot(dists, means_bb_download, label=\"download\")\n",
    "\n",
    "fig.suptitle(\"Percentage of latency increase with distance\")\n",
    "fig.supylabel(\"Factor of latency increasing\")\n",
    "fig.supxlabel(\"Relative distance from the server (Km)\")\n",
    "\n",
    "plt.show()"
   ]
  },
  {
   "cell_type": "code",
   "execution_count": null,
   "metadata": {},
   "outputs": [],
   "source": [
    "delta_df.loc[delta_df[\"isp\"] == \"ViaSat,Inc., US \"]"
   ]
  },
  {
   "cell_type": "code",
   "execution_count": null,
   "metadata": {},
   "outputs": [],
   "source": [
    "delta_df.loc[delta_df[\"isp\"] == \"ViaSat,Inc., US \"].describe()"
   ]
  },
  {
   "cell_type": "code",
   "execution_count": null,
   "metadata": {},
   "outputs": [],
   "source": [
    "delta_df.loc[delta_df[\"isp\"] == \"ViaSat,Inc., US \"].to_csv(\"output/plance.csv\")"
   ]
  },
  {
   "cell_type": "code",
   "execution_count": null,
   "metadata": {},
   "outputs": [],
   "source": [
    "fig, (ax1, ax2) = plt.subplots(1, 2, sharey=True, figsize=(10, 4))\n",
    "ax1.scatter(dfbis[\"dl_bw\"], dfbis[\"ratio_dl_rpm\"], alpha=.2)\n",
    "ax2.scatter(dfbis[\"ul_bw\"], dfbis[\"ratio_ul_rpm\"], alpha=.2)\n",
    "# fig.suptitle(f\"Factor of latency increase with goodput (without outlier)\")\n",
    "fig.supxlabel(\"Estimated goodput (Mbps)\")\n",
    "ax1.set_ylabel(\"Factor of latency increase\")\n",
    "ax1.set_title(\"download\")\n",
    "ax2.set_title(\"upload\")\n",
    "ax1.grid()\n",
    "ax2.grid()\n",
    "\n",
    "# ax1.set_xscale(\"log\")\n",
    "# ax2.set_xscale(\"log\")\n",
    "\n",
    "plt.subplots_adjust(\n",
    "    wspace=0.02, \n",
    "    hspace=0.2, \n",
    "    top=0.85,\n",
    "    bottom=0.15\n",
    ")\n",
    "plt.savefig(\"output/increase_over_bw.pdf\")"
   ]
  },
  {
   "cell_type": "code",
   "execution_count": null,
   "metadata": {},
   "outputs": [],
   "source": [
    "fig, (ax1, ax2) = plt.subplots(1, 2, sharey=True, figsize=(10, 4))\n",
    "ax1.scatter(dfbis[\"dl_bw\"], dfbis[\"ratio_dl_rpm\"], alpha=.2)\n",
    "ax2.scatter(dfbis[\"ul_bw\"], dfbis[\"ratio_ul_rpm\"], alpha=.2)\n",
    "fig.suptitle(f\"Factor of latency increase with goodput (without outlier)\")\n",
    "fig.supxlabel(\"Estimated goodput (Mbps)\")\n",
    "ax1.set_ylabel(\"Factor of latency increase\")\n",
    "ax1.set_title(\"download\")\n",
    "ax2.set_title(\"upload\")\n",
    "ax1.grid()\n",
    "ax2.grid()\n",
    "\n",
    "# ax1.set_xscale(\"log\")\n",
    "# ax2.set_xscale(\"log\")\n",
    "\n",
    "# ax1.set_xlim(xmin=0.9)\n",
    "ax2.set_xlim(xmin=0.9)\n",
    "ax1.set_xlim(xmin=-0.2, xmax=100)\n",
    "ax2.set_xlim(xmin=-0.2, xmax=50)\n",
    "\n",
    "plt.subplots_adjust(\n",
    "    wspace=0.05,\n",
    "    hspace=0.2,\n",
    "    top=0.85,\n",
    "    bottom=0.15\n",
    ")\n",
    "# plt.savefig(\"output/increase_over_bw_limit.pdf\")\n"
   ]
  },
  {
   "cell_type": "code",
   "execution_count": null,
   "metadata": {},
   "outputs": [],
   "source": [
    "delta_df[[\"dl_bw\", \"ul_bw\", \"ratio_dl_rpm\", \"ratio_ul_rpm\"]].describe()\n"
   ]
  },
  {
   "cell_type": "code",
   "execution_count": null,
   "metadata": {},
   "outputs": [],
   "source": [
    "plt.scatter(dfbis[\"ul_bw\"], dfbis[\"ratio_ul_rpm\"], alpha=.2)\n",
    "# fig.title(f\"Factor of latency increase with goodput (without outlier)\")\n",
    "plt.xlabel(\"Estimated goodput (Mbps)\")\n",
    "plt.ylabel(\"Factor of latency increase\")\n",
    "# ax1.set_title(\"download\")\n",
    "# ax2.set_title(\"upload\")\n",
    "# ax1.grid()\n",
    "plt.grid()\n",
    "plt.show()"
   ]
  },
  {
   "cell_type": "code",
   "execution_count": null,
   "metadata": {},
   "outputs": [],
   "source": [
    "fig, (ax1, ax2) = plt.subplots(1, 2, sharey=True, figsize=(10, 4))\n",
    "ax1.scatter(dfbis[\"ping\"], dfbis[\"ratio_dl_rpm\"], alpha=.2)\n",
    "ax2.scatter(dfbis[\"ping\"], dfbis[\"ratio_ul_rpm\"], alpha=.2)\n",
    "# fig.suptitle(f\"Factor of latency increase with goodput (without outlier)\")\n",
    "fig.supxlabel(\"Idle ping (ms)\")\n",
    "ax1.set_ylabel(\"Factor of latency increase\")\n",
    "ax1.set_title(\"download\")\n",
    "ax2.set_title(\"upload\")\n",
    "ax1.grid()\n",
    "ax2.grid()\n",
    "\n",
    "plt.subplots_adjust(\n",
    "    wspace=0.05,\n",
    "    hspace=0.2,\n",
    "    top=0.85,\n",
    "    bottom=0.15\n",
    ")\n",
    "plt.savefig(\"output/increase_over_idle.pdf\")"
   ]
  }
 ],
 "metadata": {
  "kernelspec": {
   "display_name": ".venv",
   "language": "python",
   "name": "python3"
  },
  "language_info": {
   "codemirror_mode": {
    "name": "ipython",
    "version": 3
   },
   "file_extension": ".py",
   "mimetype": "text/x-python",
   "name": "python",
   "nbconvert_exporter": "python",
   "pygments_lexer": "ipython3",
   "version": "3.11.2"
  },
  "orig_nbformat": 4
 },
 "nbformat": 4,
 "nbformat_minor": 2
}
