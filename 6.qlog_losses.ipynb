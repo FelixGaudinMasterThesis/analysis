{
 "cells": [
  {
   "cell_type": "code",
   "execution_count": null,
   "metadata": {},
   "outputs": [],
   "source": [
    "import json\n",
    "import os\n",
    "import matplotlib.pyplot as plt\n",
    "import pandas as pd\n",
    "import numpy as np\n",
    "from tqdm import tqdm\n",
    "import ast\n",
    "\n",
    "from quic_info2 import Quic_info, is_packet_lost\n",
    "from sqlog2qlog import sqlog2qlog"
   ]
  },
  {
   "cell_type": "code",
   "execution_count": null,
   "metadata": {},
   "outputs": [],
   "source": [
    "df = pd.read_csv(os.path.join(\"data\", \"bursts.csv\"))"
   ]
  },
  {
   "cell_type": "code",
   "execution_count": null,
   "metadata": {},
   "outputs": [],
   "source": [
    "df"
   ]
  },
  {
   "cell_type": "code",
   "execution_count": null,
   "metadata": {},
   "outputs": [],
   "source": [
    "def flatten(to_flat):\n",
    "    return [e for l in [ast.literal_eval(l) for l in to_flat] for e in l]\n"
   ]
  },
  {
   "cell_type": "code",
   "execution_count": null,
   "metadata": {},
   "outputs": [],
   "source": [
    "def max_0(l):\n",
    "    if len(l) == 0: return -1\n",
    "    return max(l)"
   ]
  },
  {
   "cell_type": "code",
   "execution_count": null,
   "metadata": {},
   "outputs": [],
   "source": [
    "df[\"max_burst\"] = df.apply(lambda r: max_0(ast.literal_eval(r[\"burst\"])), axis=1)\n",
    "df[\"sum_burst\"] = df.apply(lambda r: sum(ast.literal_eval(r[\"burst\"])), axis=1)"
   ]
  },
  {
   "cell_type": "code",
   "execution_count": null,
   "metadata": {},
   "outputs": [],
   "source": [
    "df.sort_values(by=\"max_burst\", ascending=False)"
   ]
  },
  {
   "cell_type": "code",
   "execution_count": null,
   "metadata": {},
   "outputs": [],
   "source": [
    "flatten_bursts = flatten(df['burst'].values)"
   ]
  },
  {
   "cell_type": "code",
   "execution_count": null,
   "metadata": {},
   "outputs": [],
   "source": [
    "plt.boxplot(flatten_bursts)\n",
    "plt.ylabel(\"Log scaled\")\n",
    "plt.yscale(\"log\")\n",
    "plt.title(\"Size of loss bursts for all connections\")"
   ]
  },
  {
   "cell_type": "code",
   "execution_count": null,
   "metadata": {},
   "outputs": [],
   "source": [
    "sorted_values = np.sort(flatten_bursts)\n",
    "cdf = np.arange(len(sorted_values)) / len(sorted_values)\n",
    "\n",
    "\n",
    "plt.step(sorted_values, cdf)\n",
    "plt.title(\"Size of loss bursts for all connections\")\n",
    "plt.xlabel(\"Bursts size\")\n",
    "plt.ylabel(\"Cumulative Probability\")\n",
    "# plt.xscale(\"log\")\n",
    "\n",
    "plt.xlim(xmin=0.1, xmax=50)\n",
    "plt.grid()\n",
    "plt.savefig(\"output/burst_losses_cdf.pdf\")"
   ]
  },
  {
   "cell_type": "code",
   "execution_count": null,
   "metadata": {},
   "outputs": [],
   "source": [
    "plt.hist([e for e in sorted_values if e < 50], bins=80)\n",
    "# plt.xscale(\"log\")\n",
    "plt.xlim(xmin=0.1, xmax=50)\n",
    "plt.ylabel(\"Distribution\")\n",
    "plt.xlabel(\"Burst size\")\n",
    "plt.savefig(\"output/burst_losses_pdf.pdf\")"
   ]
  },
  {
   "cell_type": "code",
   "execution_count": null,
   "metadata": {},
   "outputs": [],
   "source": [
    "isp_count = [(isp, len(df.loc[df[\"isp\"] == isp])) for isp in df[\"isp\"].unique()]\n",
    "\n",
    "\n",
    "data = []\n",
    "names = []\n",
    "\n",
    "for isp, count in sorted(isp_count, key=lambda x:x[1], reverse=True):\n",
    "    flatted = flatten(df.loc[df[\"isp\"] == isp][\"burst\"].values)\n",
    "    if len(flatted) > 20:\n",
    "        print(isp, count)\n",
    "        data.append(flatted)\n",
    "        names.append(isp)\n",
    "    # elif count >= 5:\n",
    "    #     print(\"Not took : \", isp)"
   ]
  },
  {
   "cell_type": "code",
   "execution_count": null,
   "metadata": {},
   "outputs": [],
   "source": [
    "fig = plt.figure(figsize=(8, 12))\n",
    "plt.boxplot(data, vert=False)\n",
    "plt.yticks(list(range(1, len(names) + 1)), names)\n",
    "plt.xscale(\"log\")\n",
    "plt.xlabel(\"Burst size\")\n",
    "plt.title(\"Size of burst for ISP\")\n",
    "plt.grid()"
   ]
  }
 ],
 "metadata": {
  "kernelspec": {
   "display_name": ".venv",
   "language": "python",
   "name": "python3"
  },
  "language_info": {
   "codemirror_mode": {
    "name": "ipython",
    "version": 3
   },
   "file_extension": ".py",
   "mimetype": "text/x-python",
   "name": "python",
   "nbconvert_exporter": "python",
   "pygments_lexer": "ipython3",
   "version": "3.11.2"
  },
  "orig_nbformat": 4
 },
 "nbformat": 4,
 "nbformat_minor": 2
}
