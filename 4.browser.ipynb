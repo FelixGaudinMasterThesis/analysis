{
 "cells": [
  {
   "cell_type": "code",
   "execution_count": null,
   "metadata": {},
   "outputs": [],
   "source": [
    "import json\n",
    "import os\n",
    "import matplotlib.pyplot as plt\n",
    "import pandas as pd\n",
    "import folium\n",
    "import ipinfo\n",
    "import numpy as np\n",
    "\n",
    "# https://caniuse.com/http3"
   ]
  },
  {
   "cell_type": "code",
   "execution_count": null,
   "metadata": {},
   "outputs": [],
   "source": [
    "def get_browsers(folders):\n",
    "    df = pd.read_csv(os.path.join(\"data\", \"browsers.csv\"))\n",
    "    return df\n",
    "\n",
    "\n",
    "browsers = get_browsers([\"memoire-vps-output\", \"memoire-vps-output2\"])"
   ]
  },
  {
   "cell_type": "code",
   "execution_count": null,
   "metadata": {},
   "outputs": [],
   "source": [
    "browsers"
   ]
  },
  {
   "cell_type": "code",
   "execution_count": null,
   "metadata": {},
   "outputs": [],
   "source": [
    "browser_usage = {}\n",
    "\n",
    "for browser in sorted(browsers[\"browser\"].unique()):\n",
    "    count = len(browsers.loc[browsers[\"browser\"] == browser])\n",
    "    print(f\"{browser} -> {count}\")\n",
    "    browser_usage[browser] = count"
   ]
  },
  {
   "cell_type": "code",
   "execution_count": null,
   "metadata": {},
   "outputs": [],
   "source": [
    "values = []\n",
    "names = []\n",
    "BROWSER_MIN_COUNT = 10\n",
    "\n",
    "for browser in sorted(browsers[\"browser\"].unique(), reverse=True):\n",
    "    if browser_usage[browser] > BROWSER_MIN_COUNT:\n",
    "        values.append(\n",
    "            browsers.loc[browsers[\"browser\"] == browser][\"quic_usage\"].values\n",
    "        )\n",
    "        names.append(browser)"
   ]
  },
  {
   "cell_type": "code",
   "execution_count": null,
   "metadata": {},
   "outputs": [],
   "source": [
    "fig, ax = plt.subplots()\n",
    "\n",
    "ax.boxplot(values, vert=False)\n",
    "ax.set_yticks(list(range(1, len(names) + 1)), names)\n",
    "\n",
    "ytick_labels = ax.get_yticklabels()\n",
    "for label in ytick_labels:\n",
    "    browser = label.get_text()\n",
    "    if \"Firefox\" in browser:\n",
    "        label.set_color(\"#e25b0d\")\n",
    "    elif \"Chrome\" in browser:\n",
    "        label.set_color(\"#dc392d\")\n",
    "    elif \"Safari\" in browser:\n",
    "        label.set_color(\"#10acea\")\n",
    "\n",
    "plt.grid()\n",
    "\n",
    "plt.ylabel(\"Browser used\")\n",
    "plt.xlabel(\"Average HTTP/3 usage (%)\")\n",
    "# plt.title(f\"Average HTTP/3 usage per browsers who have more than {BROWSER_MIN_COUNT} occurences\")\n",
    "\n",
    "plt.gcf().subplots_adjust(left=.3)\n",
    "plt.savefig(\"output/quic_browsers.pdf\")\n",
    "plt.show()"
   ]
  }
 ],
 "metadata": {
  "kernelspec": {
   "display_name": ".venv",
   "language": "python",
   "name": "python3"
  },
  "language_info": {
   "codemirror_mode": {
    "name": "ipython",
    "version": 3
   },
   "file_extension": ".py",
   "mimetype": "text/x-python",
   "name": "python",
   "nbconvert_exporter": "python",
   "pygments_lexer": "ipython3",
   "version": "3.11.2"
  },
  "orig_nbformat": 4
 },
 "nbformat": 4,
 "nbformat_minor": 2
}
