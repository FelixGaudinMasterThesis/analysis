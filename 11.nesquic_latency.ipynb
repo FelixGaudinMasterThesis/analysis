{
 "cells": [
  {
   "cell_type": "code",
   "execution_count": null,
   "metadata": {},
   "outputs": [],
   "source": [
    "import json\n",
    "import os\n",
    "import matplotlib.pyplot as plt\n",
    "import matplotlib.ticker as ticker\n",
    "import pandas as pd\n",
    "import folium\n",
    "import ipinfo\n",
    "import numpy as np\n",
    "from datetime import datetime\n",
    "from zipfile import ZipFile\n",
    "import cbor2\n",
    "from tqdm import tqdm\n",
    "\n",
    "\n",
    "def get_cdf_data(values):\n",
    "    sorted_values = np.sort(values)\n",
    "    cdf = np.arange(len(sorted_values)) / len(sorted_values)\n",
    "    return sorted_values, cdf\n",
    "\n",
    "def is_float(s):\n",
    "    try:\n",
    "        float(s)\n",
    "        return True\n",
    "    except:\n",
    "        return False"
   ]
  },
  {
   "cell_type": "code",
   "execution_count": null,
   "metadata": {},
   "outputs": [],
   "source": [
    "lat_df = pd.read_csv(\"data/nesquic_latency.csv\")\n",
    "lat_df[\"fixed_latency\"] = lat_df.apply(lambda r: 2*r[\"fixed_latency\"], axis=1)\n",
    "lat_df = lat_df.drop(columns=[\"Unnamed: 0\"])"
   ]
  },
  {
   "cell_type": "code",
   "execution_count": null,
   "metadata": {},
   "outputs": [],
   "source": [
    "lat_df"
   ]
  },
  {
   "cell_type": "code",
   "execution_count": null,
   "metadata": {},
   "outputs": [],
   "source": [
    "lat_df[\"test\"].unique()"
   ]
  },
  {
   "cell_type": "code",
   "execution_count": null,
   "metadata": {},
   "outputs": [],
   "source": [
    "reno_df = lat_df.loc[lat_df[\"test\"] == \"bulk_upload_reno\"]\n",
    "bbr_df = lat_df.loc[lat_df[\"test\"] == \"bulk_upload_bbr\"]\n",
    "cubic_df = lat_df.loc[lat_df[\"test\"] == \"bulk_upload_cubic\"]\n",
    "fast_df = lat_df.loc[lat_df[\"test\"] == \"bulk_upload_fast\"]\n",
    "limit3_df = lat_df.loc[lat_df[\"test\"] == \"limited_upload_0.3\"]\n",
    "limit5_df = lat_df.loc[lat_df[\"test\"] == \"limited_upload_0.5\"]\n",
    "limit8_df = lat_df.loc[lat_df[\"test\"] == \"limited_upload_0.8\"]\n",
    "limit9_df = lat_df.loc[lat_df[\"test\"] == \"limited_upload_0.9\"]\n",
    "limit10_df = lat_df.loc[lat_df[\"test\"] == \"limited_upload_1.0\"]\n",
    "limit11_df = lat_df.loc[lat_df[\"test\"] == \"limited_upload_1.1\"]"
   ]
  },
  {
   "cell_type": "code",
   "execution_count": null,
   "metadata": {},
   "outputs": [],
   "source": [
    "tmp_fast = fast_df[[\"min\", \"mean\", \"median\", \"0.8\", \"0.9\"]]\n",
    "z_scores = np.abs((tmp_fast - tmp_fast.mean()) / tmp_fast.std())\n",
    "fast_df = fast_df[(z_scores < 3).all(axis=1)]"
   ]
  },
  {
   "cell_type": "code",
   "execution_count": null,
   "metadata": {},
   "outputs": [],
   "source": [
    "def filter_z_score(list, treshold=3):\n",
    "    mean = np.mean(list)\n",
    "    std = np.std(list)\n",
    "    return [e for e in list if np.abs((e - mean) / std) < treshold]"
   ]
  },
  {
   "attachments": {},
   "cell_type": "markdown",
   "metadata": {},
   "source": [
    "## CCA"
   ]
  },
  {
   "cell_type": "code",
   "execution_count": null,
   "metadata": {},
   "outputs": [],
   "source": [
    "def plot_cca(wtp):\n",
    "    fig, axs = plt.subplots(2, 2)\n",
    "\n",
    "    axs[0, 0].scatter(bbr_df[\"fixed_bw\"], bbr_df[\"fixed_latency\"],\n",
    "                      c=bbr_df[wtp])\n",
    "    axs[0, 0].set_title(\"BBR\")\n",
    "    axs[0, 0].set_xticks([])\n",
    "\n",
    "    axs[0, 1].scatter(cubic_df[\"fixed_bw\"], cubic_df[\"fixed_latency\"],\n",
    "                      c=cubic_df[wtp])\n",
    "    axs[0, 1].set_title(\"Cubic\")\n",
    "    axs[0, 1].set_xticks([])\n",
    "    axs[0, 1].set_yticks([])\n",
    "\n",
    "    axs[1, 0].scatter(reno_df[\"fixed_bw\"], reno_df[\"fixed_latency\"],\n",
    "                      c=reno_df[wtp])\n",
    "    axs[1, 0].set_title(\"New Reno\")\n",
    "\n",
    "    sca = axs[1, 1].scatter(fast_df[\"fixed_bw\"],\n",
    "                            fast_df[\"fixed_latency\"], c=fast_df[wtp])\n",
    "    axs[1, 1].set_title(\"Fast\")\n",
    "    axs[1, 1].set_yticks([])\n",
    "\n",
    "    cax = fig.add_axes([0.85, 0.1, 0.02, 0.7])\n",
    "\n",
    "    cbar = plt.colorbar(sca, cax=cax)\n",
    "    cbar.set_label(f\"Measured {wtp} RTT (ms)\")\n",
    "\n",
    "    fig.supylabel(\"Fixed RTT (ms)\")\n",
    "    fig.supxlabel(\"Fixed bandwidth (Mbps)\")\n",
    "    plt.subplots_adjust(wspace=0.04, hspace=0.2,\n",
    "                        top=0.8, bottom=0.12, right=0.80)\n",
    "    # plt.savefig(\"output/increase_loss.pdf\")\n"
   ]
  },
  {
   "cell_type": "code",
   "execution_count": null,
   "metadata": {},
   "outputs": [],
   "source": [
    "plot_cca(\"min\")\n",
    "plt.savefig(\"output/NesQUIClab/bulk_lat_min.pdf\")\n"
   ]
  },
  {
   "cell_type": "code",
   "execution_count": null,
   "metadata": {},
   "outputs": [],
   "source": [
    "plot_cca(\"median\")"
   ]
  },
  {
   "cell_type": "code",
   "execution_count": null,
   "metadata": {},
   "outputs": [],
   "source": [
    "plot_cca(\"mean\")\n",
    "plt.savefig(\"output/NesQUIClab/bulk_lat_mean.pdf\")\n"
   ]
  },
  {
   "cell_type": "code",
   "execution_count": null,
   "metadata": {},
   "outputs": [],
   "source": [
    "plot_cca(\"0.9\")\n",
    "plt.savefig(\"output/NesQUIClab/bulk_lat_9.pdf\")\n"
   ]
  },
  {
   "cell_type": "code",
   "execution_count": null,
   "metadata": {},
   "outputs": [],
   "source": [
    "\n",
    "fig, axs = plt.subplots(2, 2, sharey=True)\n",
    "\n",
    "for metric in [\"mean\", \"median\", \"0.8\", \"0.9\"]:\n",
    "    label = f\"{int(float(metric)*100)} percentile\" if is_float(metric) else metric\n",
    "\n",
    "    d, c = get_cdf_data(bbr_df[metric])\n",
    "    axs[0, 0].step(d, c, label=label)\n",
    "    d, c = get_cdf_data(cubic_df[metric])\n",
    "    axs[0, 1].step(d, c, label=label)\n",
    "    d, c = get_cdf_data(reno_df[metric])\n",
    "    axs[1, 0].step(d, c, label=label)\n",
    "    d, c = get_cdf_data(fast_df[metric])\n",
    "    axs[1, 1].step(d, c, label=label)\n",
    "\n",
    "axs[0, 0].set_title(\"BBR\")\n",
    "\n",
    "axs[0, 1].set_title(\"Cubic\")\n",
    "# axs[0, 1].set_yticks([])\n",
    "\n",
    "axs[1, 0].set_title(\"New Reno\")\n",
    "\n",
    "axs[1, 1].set_title(\"Fast\")\n",
    "# axs[1, 1].set_yticks([])\n",
    "\n",
    "axs[0, 0].grid()\n",
    "axs[0, 1].grid()\n",
    "axs[1, 0].grid()\n",
    "axs[1, 1].grid()\n",
    "axs[1, 1].set_xlim(xmin=0, xmax=400)\n",
    "leg = plt.legend(title=\"Metrics\", bbox_to_anchor=(1, 1.6))\n",
    "\n",
    "fig.supxlabel(\"RTT (ms)\")\n",
    "fig.supylabel(\"Cumulative Probability\")\n",
    "plt.subplots_adjust(wspace=0.04, hspace=0.5, top=0.8, bottom=0.12, right=0.75)\n",
    "plt.savefig(\"output/NesQUIClab/bulk_lat_cdf.pdf\", bbox_extra_artists=(leg,))"
   ]
  },
  {
   "attachments": {},
   "cell_type": "markdown",
   "metadata": {},
   "source": [
    "## On metrics"
   ]
  },
  {
   "cell_type": "code",
   "execution_count": null,
   "metadata": {},
   "outputs": [],
   "source": [
    "def limit_sca(wtp):\n",
    "    plt.scatter(8*limit11_df[\"fixed_bw\"]*limit11_df[\"fixed_latency\"]/1000,\n",
    "                limit11_df[wtp], label=\"1.1\")\n",
    "    plt.scatter(8*limit10_df[\"fixed_bw\"]*limit10_df[\"fixed_latency\"]/1000,\n",
    "                limit10_df[\"median\"], label=\"1.0\")\n",
    "    plt.scatter(8*limit9_df[\"fixed_bw\"]*limit9_df[\"fixed_latency\"]/1000,\n",
    "                limit9_df[wtp], label=\"0.9\")\n",
    "    plt.scatter(8*limit8_df[\"fixed_bw\"]*limit8_df[\"fixed_latency\"]/1000,\n",
    "                limit8_df[wtp], label=\"0.8\")\n",
    "    plt.scatter(8*limit5_df[\"fixed_bw\"]*limit5_df[\"fixed_latency\"]/1000,\n",
    "                limit5_df[wtp], label=\"0.5\")\n",
    "    plt.scatter(8*limit3_df[\"fixed_bw\"]*limit3_df[\"fixed_latency\"]/1000,\n",
    "                limit3_df[wtp], label=\"0.3\")\n",
    "    plt.legend(bbox_to_anchor=(1, 1.04))\n",
    "    plt.xlabel(\"BDP (kB)\")\n",
    "    plt.ylabel(f\"{wtp} RTT (ms)\")"
   ]
  },
  {
   "cell_type": "code",
   "execution_count": null,
   "metadata": {},
   "outputs": [],
   "source": [
    "limit_sca(\"mean\")"
   ]
  },
  {
   "cell_type": "code",
   "execution_count": null,
   "metadata": {},
   "outputs": [],
   "source": [
    "limit_sca(\"median\")"
   ]
  },
  {
   "cell_type": "code",
   "execution_count": null,
   "metadata": {},
   "outputs": [],
   "source": [
    "limit_sca(\"0.9\")"
   ]
  },
  {
   "cell_type": "code",
   "execution_count": null,
   "metadata": {},
   "outputs": [],
   "source": [
    "limit_sca(\"min\")"
   ]
  },
  {
   "attachments": {},
   "cell_type": "markdown",
   "metadata": {},
   "source": [
    "## On tests"
   ]
  },
  {
   "cell_type": "code",
   "execution_count": null,
   "metadata": {},
   "outputs": [],
   "source": [
    "limited_tests = [t for t in lat_df.test.unique() if t.startswith(\"limited\")]\n",
    "\n",
    "flemme = {\n",
    "    0: (0, 0),\n",
    "    1: (0, 1),\n",
    "    2: (1, 0),\n",
    "    3: (1, 1),\n",
    "    4: (2, 0),\n",
    "    5: (2, 1),\n",
    "}\n",
    "\n",
    "fig, axs = plt.subplots(3, 2, \n",
    "                        # sharex=True, \n",
    "                        # sharey=True\n",
    "                        )\n",
    "# for i in range(3):\n",
    "#     axs[i, 0].get_shared_y_axes().join(axs[i, 0], axs[i, 1])\n",
    "\n",
    "for i, test_name in enumerate(limited_tests):\n",
    "    c_df = lat_df.loc[lat_df[\"test\"] == test_name]\n",
    "    row, col = flemme[i]\n",
    "    for metric in [\"mean\", \"median\", \"0.8\", \"0.9\", \"0.99\"]:\n",
    "        d, c = get_cdf_data(filter_z_score(c_df[metric]))\n",
    "        label = f\"{int(float(metric)*100)} percentile\" if is_float(metric) else metric\n",
    "        axs[row, col].step(d, c, label=label)\n",
    "    title = f\"{int(100*float(test_name.split('_')[-1]))}% of estimated bandwidth\"\n",
    "    axs[row, col].set_title(title)\n",
    "    axs[row, col].grid()\n",
    "    if col != 0: axs[row, col].set_yticks([])\n",
    "    # if row != 2: axs[row, col].set_xticks([])\n",
    "axs[0, 0].set_xlim(xmin=-.1, xmax=500)\n",
    "axs[1, 0].set_xlim(xmin=-.1, xmax=500)\n",
    "fig.supylabel(\"Cumulative Probability\")\n",
    "xlab = fig.supxlabel(\"RTT (ms)\")\n",
    "lgd = plt.legend(title=\"Metrics\", bbox_to_anchor=(1.7, 3))\n",
    "plt.subplots_adjust(wspace=0.04, hspace=0.6, top=0.8, bottom=0.12, left=.1)\n",
    "plt.savefig(\"output/NesQUIClab/limited_lat_metrics_cdf.pdf\", bbox_extra_artists=(lgd,xlab), bbox_inches='tight')"
   ]
  },
  {
   "cell_type": "code",
   "execution_count": null,
   "metadata": {},
   "outputs": [],
   "source": [
    "limited_tests = [t for t in lat_df.test.unique() if t.startswith(\"limited\")]\n",
    "\n",
    "flemme = {\n",
    "    0: (0, 0),\n",
    "    1: (0, 1),\n",
    "    2: (1, 0),\n",
    "    3: (1, 1),\n",
    "    4: (2, 0),\n",
    "    5: (2, 1),\n",
    "}\n",
    "\n",
    "fig, axs = plt.subplots(3, 2, \n",
    "                        sharex=True, \n",
    "                        # sharey=True\n",
    "                        )\n",
    "for i in range(3):\n",
    "    axs[i, 0].get_shared_y_axes().join(axs[i, 0], axs[i, 1])\n",
    "\n",
    "for i, test_name in enumerate(limited_tests):\n",
    "    c_df = lat_df.loc[lat_df[\"test\"] == test_name]\n",
    "    row, col = flemme[i]\n",
    "    for metric in [\"mean\", \"median\", \"0.8\", \"0.9\", \"0.99\"]:\n",
    "        axs[row, col].scatter(8*c_df[\"fixed_bw\"]*c_df[\"fixed_latency\"]/1000,\n",
    "                              c_df[metric], label=metric)\n",
    "    axs[row, col].set_title(test_name)\n",
    "    if col != 0: axs[row, col].set_yticks([])\n",
    "    # if row != 2: axs[row, col].set_xticks([])\n",
    "axs[0, 0].set_ylim(ymin=-.1, ymax=500)\n",
    "axs[1, 0].set_ylim(ymin=-.1, ymax=500)\n",
    "fig.supylabel(\"Measured RTT (ms)\")\n",
    "xlab = fig.supxlabel(\"BDP (kB)\")\n",
    "lgd = plt.legend(bbox_to_anchor=(1.5, 3))\n",
    "plt.subplots_adjust(wspace=0.04, hspace=0.4, top=0.8, bottom=0.12, left=.1)\n",
    "plt.savefig(\"output/NesQUIClab/limited_lat_metrics.pdf\", bbox_extra_artists=(lgd,xlab), bbox_inches='tight')"
   ]
  },
  {
   "cell_type": "code",
   "execution_count": null,
   "metadata": {},
   "outputs": [],
   "source": [
    "def plot_rtt(df):\n",
    "    for col in [\"min\", \"mean\", \"median\", \"0.8\", \"0.9\", \"0.99\"]:\n",
    "        plt.scatter(8*df[\"fixed_bw\"]*df[\"fixed_latency\"]/1000,\n",
    "                    df[col], label=col)\n",
    "    plt.legend(bbox_to_anchor=(1, 1.04))\n",
    "    plt.xlabel(\"BDP (kB)\")\n",
    "    plt.ylabel(\"RTT (ms)\")"
   ]
  },
  {
   "cell_type": "code",
   "execution_count": null,
   "metadata": {},
   "outputs": [],
   "source": [
    "plot_rtt(limit11_df)"
   ]
  }
 ],
 "metadata": {
  "kernelspec": {
   "display_name": ".venv",
   "language": "python",
   "name": "python3"
  },
  "language_info": {
   "codemirror_mode": {
    "name": "ipython",
    "version": 3
   },
   "file_extension": ".py",
   "mimetype": "text/x-python",
   "name": "python",
   "nbconvert_exporter": "python",
   "pygments_lexer": "ipython3",
   "version": "3.11.2"
  },
  "orig_nbformat": 4
 },
 "nbformat": 4,
 "nbformat_minor": 2
}
