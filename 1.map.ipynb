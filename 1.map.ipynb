{
 "cells": [
  {
   "cell_type": "code",
   "execution_count": null,
   "metadata": {},
   "outputs": [],
   "source": [
    "import json\n",
    "import os\n",
    "import matplotlib.pyplot as plt\n",
    "import pandas as pd\n",
    "import folium\n",
    "import ipinfo\n",
    "from tqdm import tqdm\n",
    "import colorsys"
   ]
  },
  {
   "cell_type": "code",
   "execution_count": null,
   "metadata": {},
   "outputs": [],
   "source": [
    "IPINFO_TOKEN = \"8ec3bebb580b49\"\n",
    "\n",
    "handler = ipinfo.getHandler(IPINFO_TOKEN)\n",
    "\n",
    "\n",
    "def get_coodinates(ip):\n",
    "    details = handler.getDetails(ip)\n",
    "    return [float(details.latitude), float(details.longitude)]\n",
    "\n",
    "def get_as(ip):\n",
    "    details = handler.getDetails(ip)\n",
    "    return details.org"
   ]
  },
  {
   "cell_type": "code",
   "execution_count": null,
   "metadata": {},
   "outputs": [],
   "source": [
    "def get_localisation(folders):\n",
    "    output = {}\n",
    "    for folder in folders:\n",
    "        for subfolder in tqdm([f for f in os.listdir(folder) if os.path.isdir(os.path.join(folder, f)) and f.startswith(\"rpm_\")]):\n",
    "            logfile = os.path.join(folder, subfolder, \"test.json\")\n",
    "            if os.path.exists(logfile):\n",
    "                try:\n",
    "                    with open(logfile) as file:\n",
    "                        data = json.load(file)\n",
    "                        ip = data[\"clientIp\"].split(\" - \")[0]\n",
    "                        if ip in output:\n",
    "                            output[ip][\"count\"] += 1\n",
    "                        else :\n",
    "                            output[ip] = {\n",
    "                                \"count\" : 1,\n",
    "                                \"coord\": get_coodinates(ip),\n",
    "                                \"as\" : get_as(ip)\n",
    "                            }\n",
    "                except:\n",
    "                    pass\n",
    "    return output"
   ]
  },
  {
   "cell_type": "code",
   "execution_count": null,
   "metadata": {},
   "outputs": [],
   "source": [
    "output = get_localisation([\"memoire-vps-output\", \"memoire-vps-output2\"])\n"
   ]
  },
  {
   "cell_type": "code",
   "execution_count": null,
   "metadata": {},
   "outputs": [],
   "source": [
    "sum([output[ip][\"count\"] for ip in output])"
   ]
  },
  {
   "cell_type": "code",
   "execution_count": null,
   "metadata": {},
   "outputs": [],
   "source": [
    "coords = []\n",
    "labels = []\n",
    "\n",
    "for ip in output:\n",
    "    for _ in range(output[ip][\"count\"]):\n",
    "        coords.append(output[ip][\"coord\"])\n",
    "        labels.append(output[ip][\"as\"])"
   ]
  },
  {
   "cell_type": "code",
   "execution_count": null,
   "metadata": {},
   "outputs": [],
   "source": [
    "from folium.plugins import MarkerCluster\n",
    "\n",
    "m2 = folium.Map(\n",
    "    location=[50.668081, 4.6118324],\n",
    "    tiles=\"cartodbpositron\", \n",
    "    zoom_start=3\n",
    ")\n",
    "\n",
    "marker_cluster = MarkerCluster().add_to(m2)\n",
    "\n",
    "for coord, label in zip(coords, labels):\n",
    "    folium.Marker(location=coord, popup=str(label)).add_to(marker_cluster)\n",
    "\n",
    "m2"
   ]
  },
  {
   "cell_type": "code",
   "execution_count": null,
   "metadata": {},
   "outputs": [],
   "source": [
    "m2.save(\"map.html\")\n",
    "m2.save(\"map.pdf\")\n"
   ]
  }
 ],
 "metadata": {
  "kernelspec": {
   "display_name": "Python 3",
   "language": "python",
   "name": "python3"
  },
  "language_info": {
   "codemirror_mode": {
    "name": "ipython",
    "version": 3
   },
   "file_extension": ".py",
   "mimetype": "text/x-python",
   "name": "python",
   "nbconvert_exporter": "python",
   "pygments_lexer": "ipython3",
   "version": "3.11.2"
  },
  "orig_nbformat": 4
 },
 "nbformat": 4,
 "nbformat_minor": 2
}
