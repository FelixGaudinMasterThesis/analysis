{
 "cells": [
  {
   "cell_type": "code",
   "execution_count": null,
   "metadata": {},
   "outputs": [],
   "source": [
    "import json\n",
    "import os\n",
    "import matplotlib.pyplot as plt\n",
    "import matplotlib.ticker as ticker\n",
    "import pandas as pd\n",
    "import folium\n",
    "import ipinfo\n",
    "import numpy as np\n",
    "from datetime import datetime\n",
    "from zipfile import ZipFile"
   ]
  },
  {
   "attachments": {},
   "cell_type": "markdown",
   "metadata": {},
   "source": [
    "# LibreSpeed"
   ]
  },
  {
   "cell_type": "code",
   "execution_count": null,
   "metadata": {},
   "outputs": [],
   "source": [
    "folder = os.path.join(\"labo_tests\", \"LS\")\n",
    "client_folder = os.path.join(folder, \"salameche\", \"output\")\n",
    "server_folder = os.path.join(folder, \"bulbizarre\")"
   ]
  },
  {
   "cell_type": "code",
   "execution_count": null,
   "metadata": {},
   "outputs": [],
   "source": [
    "data = []\n",
    "\n",
    "for folder in os.listdir(client_folder):\n",
    "    c_dir = os.path.join(client_folder, folder)\n",
    "    bw, lat = folder.split(\"_\")\n",
    "    bw = int(bw.rstrip(\"mbit\"))\n",
    "    lat = int(lat.rstrip(\"ms\"))\n",
    "    token = None\n",
    "    result = None\n",
    "    with open(os.path.join(c_dir, \"token\")) as f:\n",
    "        token = f.read().strip(\"\\n\")\n",
    "    with open(os.path.join(server_folder, token, \"test.json\")) as res:\n",
    "        result = json.load(res)\n",
    "    # print(f\"Test with {bw}Mbps and {lat}ms\")\n",
    "    # print(f\"{bw} got {result['dlStatus']} {result['ulStatus']}\")\n",
    "    # print(f\"{2*lat} got {result['pingStatus']}\\n\")\n",
    "    data.append({\n",
    "        \"expected_bw\" : bw,\n",
    "        \"dl_bw\": float(result['dlStatus']),\n",
    "        \"ul_bw\": float(result['ulStatus']),\n",
    "        \"expected_latency\" : 2*lat,\n",
    "        \"real_latency\": float(result['pingStatus']),\n",
    "        \"dl_rpm\": int(result['rpmDlStatus']),\n",
    "        \"ul_rpm\": int(result['rpmUlStatus'])\n",
    "    })\n",
    "\n",
    "df = pd.DataFrame(data)"
   ]
  },
  {
   "cell_type": "code",
   "execution_count": null,
   "metadata": {},
   "outputs": [],
   "source": [
    "df.describe()"
   ]
  },
  {
   "cell_type": "code",
   "execution_count": null,
   "metadata": {},
   "outputs": [],
   "source": [
    "df.loc[df[\"dl_bw\"] < 1]"
   ]
  },
  {
   "attachments": {},
   "cell_type": "markdown",
   "metadata": {},
   "source": [
    "## Compute QUIC `overheadCompensationFactor`"
   ]
  },
  {
   "cell_type": "code",
   "execution_count": null,
   "metadata": {},
   "outputs": [],
   "source": [
    "factors = []\n",
    "\n",
    "for _, row in df.iterrows():\n",
    "    if row[\"expected_bw\"] != 1: # avoid bw test with 0Mbps\n",
    "        factors.append(row[\"expected_bw\"]/row[\"dl_bw\"])\n",
    "        factors.append(row[\"expected_bw\"]/row[\"ul_bw\"])"
   ]
  },
  {
   "cell_type": "code",
   "execution_count": null,
   "metadata": {},
   "outputs": [],
   "source": [
    "factor = np.median(factors)\n",
    "\n",
    "print(f\"median : {factor}, var : {np.var(factors)}\")"
   ]
  },
  {
   "cell_type": "code",
   "execution_count": null,
   "metadata": {},
   "outputs": [],
   "source": [
    "df_corr = pd.DataFrame({\n",
    "    \"exp_bw\" : df[\"expected_bw\"],\n",
    "    \"dl_corr\": df.apply(lambda r: factor*r[\"dl_bw\"], axis=1),\n",
    "    \"ul_corr\": df.apply(lambda r: factor*r[\"ul_bw\"], axis=1),\n",
    "    \"expected_latency\" : df[\"expected_latency\"]\n",
    "})"
   ]
  },
  {
   "cell_type": "code",
   "execution_count": null,
   "metadata": {},
   "outputs": [],
   "source": [
    "ratios = []\n",
    "\n",
    "for _, row in df_corr.iterrows():\n",
    "    if row[\"exp_bw\"] != 1:\n",
    "        ratios.append(row[\"exp_bw\"]/row[\"dl_corr\"])\n",
    "        ratios.append(row[\"exp_bw\"]/row[\"ul_corr\"])\n",
    "\n",
    "np.mean(ratios), np.var(ratios)"
   ]
  },
  {
   "cell_type": "code",
   "execution_count": null,
   "metadata": {},
   "outputs": [],
   "source": [
    "fig, (ax1, ax2) = plt.subplots(1, 2, sharey=True, figsize=(10, 4))\n",
    "\n",
    "ax1.plot([1, 100], [1, 100], color=\"red\")\n",
    "ax2.plot([1, 100], [1, 100], color=\"red\", label=\"expeted\")\n",
    "\n",
    "ax1.scatter(df[\"expected_bw\"], df[\"dl_bw\"], c=df[\"expected_latency\"], cmap='viridis')\n",
    "sca = ax2.scatter(df[\"expected_bw\"], df[\"ul_bw\"], c=df[\"expected_latency\"], cmap='viridis', label=\"measured\")\n",
    "\n",
    "cbar = plt.colorbar(sca, ax=ax2)\n",
    "cbar.set_label(\"Fixed RTT (ms)\")\n",
    "\n",
    "# fig.suptitle(f\"Comparaison between expected and measured bandwidth\")\n",
    "fig.supxlabel(\"Fixed bandwidth (Mbps)\")\n",
    "ax1.set_ylabel(\"Measured bandwidth (Mbps)\")\n",
    "ax1.set_title(\"download\")\n",
    "ax2.set_title(\"upload\")\n",
    "ax1.grid()\n",
    "ax2.grid()\n",
    "\n",
    "plt.legend()\n",
    "# ax1.set_xscale(\"log\")\n",
    "# ax2.set_xscale(\"log\")\n",
    "\n",
    "plt.subplots_adjust(\n",
    "    wspace=0.02,\n",
    "    hspace=0.2,\n",
    "    top=0.85,\n",
    "    bottom=0.15\n",
    ")\n",
    "plt.savefig(\"output/LS_lab/bandwidth.pdf\")"
   ]
  },
  {
   "cell_type": "code",
   "execution_count": null,
   "metadata": {},
   "outputs": [],
   "source": [
    "fig, (ax1, ax2) = plt.subplots(1, 2, sharey=True, figsize=(10, 4))\n",
    "\n",
    "ax1.plot([1, 100], [1, 100], color=\"red\")\n",
    "ax2.plot([1, 100], [1, 100], color=\"red\", label=\"expeted\")\n",
    "\n",
    "ax1.scatter(df_corr[\"exp_bw\"], df_corr[\"dl_corr\"],\n",
    "            c=df_corr[\"expected_latency\"], cmap='viridis')\n",
    "sca = ax2.scatter(df_corr[\"exp_bw\"], df_corr[\"ul_corr\"],\n",
    "                  c=df_corr[\"expected_latency\"], cmap='viridis', label=\"measured\")\n",
    "\n",
    "cbar = plt.colorbar(sca, ax=ax2)\n",
    "cbar.set_label(\"Fixed RTT (ms)\")\n",
    "\n",
    "# fig.suptitle(f\"Comparaison between expected and measured bandwidth after correction\")\n",
    "fig.supxlabel(\"Fixed bandwidth (Mbps)\")\n",
    "ax1.set_ylabel(\"Measured bandwidth (Mbps)\")\n",
    "ax1.set_title(\"download\")\n",
    "ax2.set_title(\"upload\")\n",
    "ax1.grid()\n",
    "ax2.grid()\n",
    "\n",
    "plt.legend()\n",
    "# ax1.set_xscale(\"log\")\n",
    "# ax2.set_xscale(\"log\")\n",
    "\n",
    "plt.subplots_adjust(\n",
    "    wspace=0.02,\n",
    "    hspace=0.2,\n",
    "    top=0.85,\n",
    "    bottom=0.15\n",
    ")\n",
    "plt.savefig(\"output/LS_lab/corr_bandwidth.pdf\")\n"
   ]
  },
  {
   "attachments": {},
   "cell_type": "markdown",
   "metadata": {},
   "source": [
    "## Latency"
   ]
  },
  {
   "cell_type": "code",
   "execution_count": null,
   "metadata": {},
   "outputs": [],
   "source": [
    "factor_ratio = []\n",
    "factor_delta = []\n",
    "\n",
    "for _, row in df.iterrows():\n",
    "    factor_ratio.append(row[\"real_latency\"]/row[\"expected_latency\"])\n",
    "    factor_delta.append(row[\"real_latency\"] - row[\"expected_latency\"])\n",
    "\n",
    "print(f\"mean : {np.median(factor_ratio)}\\nvar  : {np.var(factor_ratio)}\")\n",
    "print(f\"mean : {np.median(factor_delta)}\\nvar  : {np.var(factor_delta)}\")\n"
   ]
  },
  {
   "cell_type": "code",
   "execution_count": null,
   "metadata": {},
   "outputs": [],
   "source": [
    "plt.plot([5, 250], [5, 250], color=\"red\", label=\"expected\")\n",
    "plt.scatter(df[\"real_latency\"], df[\"expected_latency\"], label=\"measured\")\n",
    "plt.xlabel(\"Fixed RTT (ms)\")\n",
    "plt.ylabel(\"Measured RTT (ms)\")\n",
    "plt.legend()\n",
    "# plt.title(\"Comparaison between fixed and measured latency\")\n",
    "plt.savefig(\"output/LS_lab/latency.pdf\")\n"
   ]
  },
  {
   "cell_type": "code",
   "execution_count": null,
   "metadata": {},
   "outputs": [],
   "source": [
    "rpm_df = pd.DataFrame({\n",
    "    \"real_bw\": df[\"expected_bw\"],\n",
    "    \"real_lat\": df[\"expected_latency\"],\n",
    "    \"ping_as_rpm\": df.apply(lambda r: int(60_000/r[\"real_latency\"]), axis=1),\n",
    "    \"dl_rpm\": df[\"dl_rpm\"],\n",
    "    \"dl_rpm_ratio\": df.apply(lambda r: (60_000/r[\"real_latency\"])/r[\"dl_rpm\"], axis=1),\n",
    "    \"ul_rpm\": df[\"ul_rpm\"],\n",
    "    \"ul_rpm_ratio\": df.apply(lambda r: (60_000/r[\"real_latency\"])/r[\"ul_rpm\"], axis=1),\n",
    "})"
   ]
  },
  {
   "cell_type": "code",
   "execution_count": null,
   "metadata": {},
   "outputs": [],
   "source": [
    "rpm_df"
   ]
  },
  {
   "cell_type": "code",
   "execution_count": null,
   "metadata": {},
   "outputs": [],
   "source": [
    "fig, (ax1, ax2) = plt.subplots(1, 2, sharey=True, figsize=(10, 4))\n",
    "ax1.scatter(rpm_df[\"real_bw\"], rpm_df[\"dl_rpm_ratio\"], c=rpm_df[\"real_lat\"], cmap='viridis')\n",
    "sca = ax2.scatter(rpm_df[\"real_bw\"], rpm_df[\"ul_rpm_ratio\"], c=rpm_df[\"real_lat\"], cmap='viridis')\n",
    "cbar = plt.colorbar(sca, ax=ax2)\n",
    "cbar.set_label(\"Fixed RTT (ms)\")\n",
    "# fig.suptitle(f\"Factor of latency increase with bandwidth\")\n",
    "fig.supxlabel(\"Bandwidth (Mbps)\")\n",
    "ax1.set_ylabel(\"Factor of latency increase\")\n",
    "ax1.set_title(\"download\")\n",
    "ax2.set_title(\"upload\")\n",
    "ax1.grid()\n",
    "ax2.grid()\n",
    "\n",
    "# ax1.set_xscale(\"log\")\n",
    "# ax2.set_xscale(\"log\")\n",
    "\n",
    "plt.subplots_adjust(\n",
    "    wspace=0.02,\n",
    "    hspace=0.2,\n",
    "    top=0.85,\n",
    "    bottom=0.15\n",
    ")\n",
    "plt.savefig(\"output/LS_lab/factor_latency.pdf\")\n"
   ]
  },
  {
   "cell_type": "code",
   "execution_count": null,
   "metadata": {},
   "outputs": [],
   "source": [
    "rpm_df.loc[(rpm_df[\"dl_rpm_ratio\"] > 20) | (rpm_df[\"ul_rpm_ratio\"] > 20)]"
   ]
  },
  {
   "cell_type": "code",
   "execution_count": null,
   "metadata": {},
   "outputs": [],
   "source": [
    "rpm_df[\"max_bytes_in_flight\"] = rpm_df.apply(lambda r:8*r[\"real_bw\"]*r[\"real_lat\"]*1000/1000_000, axis=1)"
   ]
  },
  {
   "cell_type": "code",
   "execution_count": null,
   "metadata": {},
   "outputs": [],
   "source": [
    "fig, (ax1, ax2) = plt.subplots(1, 2, sharey=True, figsize=(10, 4))\n",
    "\n",
    "ax1.scatter(rpm_df[\"max_bytes_in_flight\"], rpm_df[\"dl_rpm_ratio\"])\n",
    "ax2.scatter(rpm_df[\"max_bytes_in_flight\"], rpm_df[\"ul_rpm_ratio\"])\n",
    "\n",
    "# fig.suptitle(f\"Factor of latency increase with bandwidth\")\n",
    "fig.supxlabel(\"Bandwidth delay product (kB)\")\n",
    "ax1.set_ylabel(\"Factor of latency increase\")\n",
    "ax1.set_title(\"download\")\n",
    "ax2.set_title(\"upload\")\n",
    "ax1.grid()\n",
    "ax2.grid()\n",
    "\n",
    "plt.subplots_adjust(\n",
    "    wspace=0.02,\n",
    "    hspace=0.2,\n",
    "    top=0.85,\n",
    "    bottom=0.15\n",
    ")\n",
    "plt.savefig(\"output/LS_lab/BDP.pdf\")"
   ]
  },
  {
   "attachments": {},
   "cell_type": "markdown",
   "metadata": {},
   "source": [
    "## QUIC utilisation"
   ]
  },
  {
   "cell_type": "code",
   "execution_count": null,
   "metadata": {},
   "outputs": [],
   "source": [
    "def parse(filename):\n",
    "    output = []\n",
    "    with open(filename, \"r\") as file:\n",
    "        for line in file.readlines():\n",
    "            try:\n",
    "                output.append(json.loads(line))\n",
    "            except:\n",
    "                pass\n",
    "    return output"
   ]
  },
  {
   "cell_type": "code",
   "execution_count": null,
   "metadata": {},
   "outputs": [],
   "source": [
    "quic_usage = []\n",
    "http_2_percentage_of_connection = []\n",
    "http_3_percentage_of_connection = []\n",
    "\n",
    "for folder in os.listdir(client_folder):\n",
    "    c_dir = os.path.join(client_folder, folder)\n",
    "    bw, lat = folder.split(\"_\")\n",
    "    bw = int(bw.rstrip(\"mbit\"))\n",
    "    lat = int(lat.rstrip(\"ms\"))\n",
    "    token = None\n",
    "    result = None\n",
    "    with open(os.path.join(c_dir, \"token\")) as f:\n",
    "        token = f.read().strip(\"\\n\")\n",
    "    logfile = os.path.join(server_folder, token, \"proxy.log\")\n",
    "    if os.path.exists(logfile):\n",
    "        try:\n",
    "            proxy_logs = parse(logfile)\n",
    "            if len(proxy_logs) > 0:\n",
    "                n_req = h3 = 0\n",
    "                for i, access in enumerate(proxy_logs):\n",
    "                    if access[\"request\"][\"method\"] == \"GET\" or access[\"request\"][\"method\"] == \"POST\":\n",
    "                        if access[\"request\"][\"proto\"] == \"HTTP/3.0\":\n",
    "                            h3 += 1\n",
    "                            http_3_percentage_of_connection.append(\n",
    "                                100*(i+1)/len(proxy_logs))\n",
    "                        else:\n",
    "                            http_2_percentage_of_connection.append(100*(i+1)/len(proxy_logs))\n",
    "                        n_req += 1\n",
    "                quic_usage.append(100*h3/n_req)\n",
    "        except:\n",
    "            pass"
   ]
  },
  {
   "cell_type": "code",
   "execution_count": null,
   "metadata": {},
   "outputs": [],
   "source": [
    "def get_cdf_data(values):\n",
    "    sorted_values = np.sort(values)\n",
    "    cdf = np.arange(len(sorted_values)) / len(sorted_values)\n",
    "    return sorted_values, cdf"
   ]
  },
  {
   "cell_type": "code",
   "execution_count": null,
   "metadata": {},
   "outputs": [],
   "source": [
    "d, c = get_cdf_data(quic_usage)\n",
    "plt.step(d, c)\n",
    "plt.xlabel(\"Percentage of HTTP/3 utilization (%)\")\n",
    "plt.ylabel(\"Cumulative Probability\")\n",
    "# plt.xlim(xmin=0, xmax=100)\n",
    "plt.savefig(\"output/LS_lab/quic_usage.pdf\")"
   ]
  },
  {
   "cell_type": "code",
   "execution_count": null,
   "metadata": {},
   "outputs": [],
   "source": [
    "d, c = get_cdf_data(http_2_percentage_of_connection)\n",
    "plt.hist(http_3_percentage_of_connection, label=\"HTTP/3\")\n",
    "plt.hist(http_2_percentage_of_connection, label=\"HTTP/2\")\n",
    "plt.legend()\n",
    "xlab = plt.xlabel(\"Occurence of HTTP request according\\nto the progress of the connection (in percentage)\")\n",
    "plt.subplots_adjust(wspace=0.04, hspace=0.4, top=0.8, bottom=0.12)\n",
    "plt.savefig(\"output/LS_lab/http2_events.pdf\", bbox_extra_artists=(xlab, ))"
   ]
  }
 ],
 "metadata": {
  "kernelspec": {
   "display_name": ".venv",
   "language": "python",
   "name": "python3"
  },
  "language_info": {
   "codemirror_mode": {
    "name": "ipython",
    "version": 3
   },
   "file_extension": ".py",
   "mimetype": "text/x-python",
   "name": "python",
   "nbconvert_exporter": "python",
   "pygments_lexer": "ipython3",
   "version": "3.11.2"
  },
  "orig_nbformat": 4
 },
 "nbformat": 4,
 "nbformat_minor": 2
}
