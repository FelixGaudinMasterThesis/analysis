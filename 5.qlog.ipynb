{
 "cells": [
  {
   "cell_type": "code",
   "execution_count": null,
   "metadata": {},
   "outputs": [],
   "source": [
    "import json\n",
    "import os\n",
    "import matplotlib.pyplot as plt\n",
    "import pandas as pd\n",
    "import folium\n",
    "import ipinfo\n",
    "import numpy as np\n",
    "from tqdm import tqdm\n",
    "from matplotlib.ticker import FuncFormatter\n",
    "from quic_info2 import Quic_info\n",
    "from sqlog2qlog import sqlog2qlog\n"
   ]
  },
  {
   "cell_type": "code",
   "execution_count": null,
   "metadata": {},
   "outputs": [],
   "source": [
    "def get_loss(sqlog_file):\n",
    "    qi = Quic_info(sqlog_file)\n",
    "    loss_rate = qi.get_lost()/qi.get_packet_sent()\n",
    "    del qi\n",
    "    return loss_rate\n"
   ]
  },
  {
   "cell_type": "code",
   "execution_count": null,
   "metadata": {},
   "outputs": [],
   "source": [
    "folder = \"memoire-vps-output2\"\n",
    "\n",
    "losses = []\n",
    "n_qlogs = 0\n",
    "\n",
    "# for subfolder in tqdm([f for f in os.listdir(folder) if os.path.isdir(os.path.join(folder, f))]):\n",
    "#     if os.path.exists(os.path.join(folder, subfolder, \"proxy.log\")):\n",
    "#         subfolder = os.path.join(folder, subfolder)\n",
    "#         losses_for_test = []\n",
    "#         for subsubfolder in [\"IP\", \"Ping\", \"RpmDownload\", \"RpmUpload\"]:\n",
    "#             subsubfolder = os.path.join(subfolder, subsubfolder)\n",
    "#             for sqlog_file in os.listdir(subsubfolder):\n",
    "#                 n_qlogs += 1\n",
    "#                 losses_for_test.append(\n",
    "#                     get_loss(os.path.join(subsubfolder, sqlog_file)))\n",
    "#         if len(losses_for_test) > 0:\n",
    "#             losses.append(100 * np.mean(losses_for_test))\n",
    "df = pd.read_csv(os.path.join(\"data\", \"spurious.csv\"))\n",
    "losses = df[\"loss_rate\"].values"
   ]
  },
  {
   "cell_type": "code",
   "execution_count": null,
   "metadata": {},
   "outputs": [],
   "source": [
    "df.describe()"
   ]
  },
  {
   "cell_type": "code",
   "execution_count": null,
   "metadata": {},
   "outputs": [],
   "source": [
    "print(\"RESULT :\")\n",
    "print(f\"{n_qlogs} qlog files\")"
   ]
  },
  {
   "cell_type": "code",
   "execution_count": null,
   "metadata": {},
   "outputs": [],
   "source": [
    "plt.boxplot(losses)\n",
    "plt.ylabel(\"Percentage of loss (%)\")\n",
    "plt.title(\"Loss rate\")"
   ]
  },
  {
   "cell_type": "code",
   "execution_count": null,
   "metadata": {},
   "outputs": [],
   "source": [
    "sorted_values = np.sort(losses)\n",
    "cdf = np.arange(len(sorted_values)) / len(sorted_values)\n",
    "\n",
    "plt.plot(sorted_values, cdf)\n",
    "# plt.title(\"CDF of the percentage of losses\")\n",
    "plt.xlabel(\"Percentage of losses (%)\")\n",
    "plt.ylabel(\"Cumulative Probability\")\n",
    "\n",
    "plt.xlim(xmin=0)\n",
    "plt.grid()\n",
    "plt.savefig(\"output/losses.pdf\")"
   ]
  },
  {
   "cell_type": "code",
   "execution_count": null,
   "metadata": {},
   "outputs": [],
   "source": [
    "fig, ax = plt.subplots()\n",
    "ax.plot(sorted_values, cdf)\n",
    "# plt.title(\"CDF of the percentage of losses\")\n",
    "ax.set_xlabel(\"Percentage of losses (%)\")\n",
    "ax.set_ylabel(\"Cumulative Probability\")\n",
    "# ax.set_xscale(\"log\")\n",
    "plt.xlim(xmin=-.01, xmax=.2)\n",
    "plt.grid()\n",
    "\n",
    "# formatter = FuncFormatter(lambda y, _: '{:.2g}'.format(y))\n",
    "# ax.xaxis.set_major_formatter(formatter)\n",
    "\n",
    "plt.savefig(\"output/losses_zoomed.pdf\")\n"
   ]
  }
 ],
 "metadata": {
  "kernelspec": {
   "display_name": ".venv",
   "language": "python",
   "name": "python3"
  },
  "language_info": {
   "codemirror_mode": {
    "name": "ipython",
    "version": 3
   },
   "file_extension": ".py",
   "mimetype": "text/x-python",
   "name": "python",
   "nbconvert_exporter": "python",
   "pygments_lexer": "ipython3",
   "version": "3.11.2"
  },
  "orig_nbformat": 4
 },
 "nbformat": 4,
 "nbformat_minor": 2
}
