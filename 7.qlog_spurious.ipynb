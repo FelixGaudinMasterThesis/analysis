{
 "cells": [
  {
   "cell_type": "code",
   "execution_count": null,
   "metadata": {},
   "outputs": [],
   "source": [
    "import json\n",
    "import os\n",
    "import matplotlib.pyplot as plt\n",
    "import pandas as pd\n",
    "import numpy as np\n",
    "from tqdm import tqdm\n",
    "import seaborn as sn\n",
    "import plotly.express as px\n",
    "from mpl_toolkits.mplot3d import axis3d\n",
    "\n",
    "from quic_info2 import Quic_info"
   ]
  },
  {
   "cell_type": "code",
   "execution_count": null,
   "metadata": {},
   "outputs": [],
   "source": [
    "df = pd.read_csv(os.path.join(\"data\", \"spurious.csv\"))"
   ]
  },
  {
   "cell_type": "code",
   "execution_count": null,
   "metadata": {},
   "outputs": [],
   "source": [
    "df"
   ]
  },
  {
   "cell_type": "code",
   "execution_count": null,
   "metadata": {},
   "outputs": [],
   "source": [
    "plt.boxplot(df[\"spurious\"].values)\n",
    "plt.ylabel(\"Log scaled\")\n",
    "# plt.yscale(\"log\")\n",
    "plt.title(\"Number of spurious\")"
   ]
  },
  {
   "cell_type": "code",
   "execution_count": null,
   "metadata": {},
   "outputs": [],
   "source": [
    "sorted_values = np.sort(df[\"spurious\"].values)\n",
    "cdf = np.arange(len(sorted_values)) / len(sorted_values)\n",
    "\n",
    "plt.plot(sorted_values, cdf)\n",
    "plt.title(\"Number of spurious\")\n",
    "plt.xlabel(\"Spurious number\")\n",
    "plt.ylabel(\"Cumulative Probability\")\n",
    "# plt.xscale(\"log\")\n",
    "\n",
    "# plt.xlim(xmin=0)\n",
    "plt.grid()\n"
   ]
  },
  {
   "cell_type": "code",
   "execution_count": null,
   "metadata": {},
   "outputs": [],
   "source": [
    "isp_count = [(isp, len(df.loc[df[\"isp\"] == isp])) for isp in df[\"isp\"].unique()]\n",
    "\n",
    "\n",
    "data = []\n",
    "names = []\n",
    "\n",
    "for isp, count in sorted(isp_count, key=lambda x:x[1], reverse=True):\n",
    "    if count >= 5:\n",
    "        print(isp, count)\n",
    "        data.append(df.loc[df[\"isp\"] == isp][\"spurious\"].values)\n",
    "        names.append(isp)\n",
    "    # elif count >= 5:\n",
    "    #     print(\"Not took : \", isp)"
   ]
  },
  {
   "cell_type": "code",
   "execution_count": null,
   "metadata": {},
   "outputs": [],
   "source": [
    "fig = plt.figure(figsize=(8, 12))\n",
    "plt.boxplot(data, vert=False)\n",
    "plt.yticks(list(range(1, len(names) + 1)), names)\n",
    "# plt.xscale(\"log\")\n",
    "plt.xlabel(\"Number of spurious\")\n",
    "plt.title(\"Spurious retransmission for ISP\")\n",
    "plt.grid()"
   ]
  },
  {
   "cell_type": "code",
   "execution_count": null,
   "metadata": {},
   "outputs": [],
   "source": [
    "corr = df[[\"dist\", \"spurious\", \"loss\", \"ping_as_rpm\", \"ratio_dl_rpm\", \"ratio_ul_rpm\"]].corr()\n",
    "sn.heatmap(corr, annot=True)"
   ]
  },
  {
   "cell_type": "code",
   "execution_count": null,
   "metadata": {},
   "outputs": [],
   "source": [
    "spurious_percentage = []\n",
    "\n",
    "for index, row in df.iterrows():\n",
    "    if row[\"loss\"] > 0:\n",
    "        spurious_percentage.append(\n",
    "            100*row[\"spurious\"] / row[\"loss\"]\n",
    "        )"
   ]
  },
  {
   "cell_type": "code",
   "execution_count": null,
   "metadata": {},
   "outputs": [],
   "source": [
    "plt.boxplot(spurious_percentage)\n",
    "plt.title(\"Percentage of spurious retransmission among losses\")\n",
    "plt.ylabel(\"Percentage (%)\")"
   ]
  },
  {
   "cell_type": "code",
   "execution_count": null,
   "metadata": {},
   "outputs": [],
   "source": [
    "sorted_values = np.sort(spurious_percentage)\n",
    "cdf = np.arange(len(sorted_values)) / len(sorted_values)\n",
    "\n",
    "plt.plot(sorted_values, cdf)\n",
    "plt.title(\"Spurious percentage\")\n",
    "plt.xlabel(\"Spurious percentage among losses (%)\")\n",
    "plt.ylabel(\"Cumulative Probability\")\n",
    "# plt.xscale(\"log\")\n",
    "\n",
    "# plt.xlim(xmin=0)\n",
    "plt.grid()\n"
   ]
  },
  {
   "cell_type": "code",
   "execution_count": null,
   "metadata": {},
   "outputs": [],
   "source": [
    "plt.hist(sorted_values, bins=100)\n",
    "# plt.title(\"Spurious rate among losses distribution\")\n",
    "plt.xlabel(\"Spurious retransmission rate among losses (%)\")\n",
    "plt.ylabel(\"Number\")\n",
    "plt.yscale(\"log\")\n",
    "plt.savefig(\"output/spurious_distribution.pdf\")"
   ]
  },
  {
   "cell_type": "code",
   "execution_count": null,
   "metadata": {},
   "outputs": [],
   "source": [
    "df[\"spurious_rate\"] = df.apply(lambda r:100* r[\"spurious\"]/r[\"loss\"] if r[\"loss\"] != 0 else 0, axis=1)\n",
    "df.loc[df[\"loss_rate\"] > .8].sort_values(by=\"loss_rate\", ascending=False)\n"
   ]
  },
  {
   "cell_type": "code",
   "execution_count": null,
   "metadata": {},
   "outputs": [],
   "source": [
    "df.loc[df[\"isp\"].str.contains(\"NZ\")]"
   ]
  },
  {
   "cell_type": "code",
   "execution_count": null,
   "metadata": {},
   "outputs": [],
   "source": [
    "spurious_data = []\n",
    "spurious_names = []\n",
    "\n",
    "for isp, count in sorted(isp_count, key=lambda x: x[1], reverse=True):\n",
    "    if count >= 5:\n",
    "        cur_spurious_percentage = []\n",
    "        for index, row in df.loc[df[\"isp\"] == isp].iterrows():\n",
    "            if row[\"loss\"] > 0:\n",
    "                cur_spurious_percentage.append(\n",
    "                    100*row[\"spurious\"] / row[\"loss\"]\n",
    "                )\n",
    "        if len(cur_spurious_percentage) > 0:\n",
    "            spurious_data.append(cur_spurious_percentage)\n",
    "            spurious_names.append(isp)\n"
   ]
  },
  {
   "cell_type": "code",
   "execution_count": null,
   "metadata": {},
   "outputs": [],
   "source": [
    "fig = plt.figure(figsize=(8, 5))\n",
    "plt.boxplot(spurious_data, vert=False)\n",
    "plt.yticks(list(range(1, len(spurious_names) + 1)), spurious_names)\n",
    "# plt.xscale(\"log\")\n",
    "plt.xlabel(\"Spurious percentage (%)\")\n",
    "plt.title(\"Percentage of spurious retransmission among losses\")\n",
    "plt.grid()"
   ]
  },
  {
   "cell_type": "code",
   "execution_count": null,
   "metadata": {},
   "outputs": [],
   "source": [
    "# Remove outlier\n",
    "dfbis = df[[\"loss_rate\", \"ratio_dl_rpm\", \"ratio_ul_rpm\"]]\n",
    "z_scores = np.abs((dfbis - dfbis.mean()) / dfbis.std())\n",
    "dfbis = dfbis[(z_scores < 3).all(axis=1)]"
   ]
  },
  {
   "cell_type": "code",
   "execution_count": null,
   "metadata": {},
   "outputs": [],
   "source": [
    "fig, (ax1, ax2) = plt.subplots(1, 2, sharey=True, figsize=(10, 4))\n",
    "ax1.scatter(dfbis[\"loss_rate\"], dfbis[\"ratio_dl_rpm\"], alpha=.2)\n",
    "ax2.scatter(dfbis[\"loss_rate\"], dfbis[\"ratio_ul_rpm\"], alpha=.2)\n",
    "# fig.suptitle(f\"Factor of latency increase with loss rate (without outlier)\")\n",
    "fig.supxlabel(\"Loss rate (%)\")\n",
    "ax1.set_ylabel(\"Factor of latency increase\")\n",
    "ax1.set_title(\"download\")\n",
    "ax2.set_title(\"upload\")\n",
    "ax1.grid()\n",
    "ax2.grid()\n",
    "\n",
    "# ax1.set_xscale(\"log\")\n",
    "# ax2.set_xscale(\"log\")\n",
    "\n",
    "plt.subplots_adjust(wspace=0.02, hspace=0.2, top=0.8, bottom=0.15)\n",
    "plt.savefig(\"output/increase_loss.pdf\")"
   ]
  },
  {
   "cell_type": "code",
   "execution_count": null,
   "metadata": {},
   "outputs": [],
   "source": [
    "fig, (ax1, ax2) = plt.subplots(1, 2, sharey=True, figsize=(10, 4))\n",
    "ax1.scatter(dfbis[\"loss_rate\"], dfbis[\"ratio_dl_rpm\"], alpha=.2)\n",
    "ax2.scatter(dfbis[\"loss_rate\"], dfbis[\"ratio_ul_rpm\"], alpha=.2)\n",
    "# fig.suptitle(f\"Factor of latency increase with loss rate (without outlier)\")\n",
    "fig.supxlabel(\"Loss rate (%)\")\n",
    "ax1.set_ylabel(\"Factor of latency increase\")\n",
    "ax1.set_title(\"download\")\n",
    "ax2.set_title(\"upload\")\n",
    "ax1.grid()\n",
    "ax2.grid()\n",
    "\n",
    "ax1.set_xlim(xmin=-.005, xmax=.1)\n",
    "ax2.set_xlim(xmin=-.005, xmax=.1)\n",
    "\n",
    "plt.subplots_adjust(wspace=0.08, hspace=0.2, top=0.8, bottom=0.15)\n",
    "plt.savefig(\"output/increase_loss_limit.pdf\")\n"
   ]
  },
  {
   "cell_type": "code",
   "execution_count": null,
   "metadata": {},
   "outputs": [],
   "source": [
    "dists = []\n",
    "data = []\n",
    "data2 = []\n",
    "\n",
    "for dist in sorted(df[\"dist\"].unique()):\n",
    "    # print(len(df.loc[df[\"dist\"] == dist]))\n",
    "    dists.append(dist)\n",
    "    data.append(np.mean(df.loc[df[\"dist\"] == dist][\"loss_rate\"].values))\n",
    "    data2.append(np.mean(df.loc[df[\"dist\"] == dist][\"spurious_rate\"].values))\n"
   ]
  },
  {
   "cell_type": "code",
   "execution_count": null,
   "metadata": {},
   "outputs": [],
   "source": [
    "plt.plot(dists, data)\n",
    "plt.plot(dists, data2)\n"
   ]
  },
  {
   "cell_type": "code",
   "execution_count": null,
   "metadata": {},
   "outputs": [],
   "source": [
    "plt.scatter(df[\"loss_rate\"], df[\"spurious_rate\"], alpha=.2)\n",
    "plt.xlim(xmax=1, xmin=-0.1)\n",
    "# plt.title(\"Comparaison of spurious among losses\\ntaking loss rate below 1%\")\n",
    "plt.xlabel(\"Loss rate (%)\")\n",
    "plt.ylabel(\"Spurious retransmission rate among losses (%)\")\n",
    "plt.savefig(\"output/spurious_loss.pdf\")"
   ]
  },
  {
   "cell_type": "code",
   "execution_count": null,
   "metadata": {},
   "outputs": [],
   "source": [
    "plt.scatter(df[\"spurious_rate\"], df[\"ratio_dl_rpm\"], alpha=.2)\n",
    "plt.scatter(df[\"spurious_rate\"], df[\"ratio_ul_rpm\"], alpha=.2)\n",
    "plt.xlim(xmax=1, xmin=-0.1)\n",
    "plt.title(\"Comparaison of spurious among losses\\ntaking loss rate below 1%\")\n",
    "plt.xlabel(\"Loss rate (%)\")\n",
    "plt.ylabel(\"Spurious rate among losses (%)\")\n",
    "# plt.savefig(\"output/spurious_loss.pdf\")\n"
   ]
  }
 ],
 "metadata": {
  "kernelspec": {
   "display_name": ".venv",
   "language": "python",
   "name": "python3"
  },
  "language_info": {
   "codemirror_mode": {
    "name": "ipython",
    "version": 3
   },
   "file_extension": ".py",
   "mimetype": "text/x-python",
   "name": "python",
   "nbconvert_exporter": "python",
   "pygments_lexer": "ipython3",
   "version": "3.11.2"
  },
  "orig_nbformat": 4
 },
 "nbformat": 4,
 "nbformat_minor": 2
}
