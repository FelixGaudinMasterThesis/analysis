{
 "cells": [
  {
   "cell_type": "code",
   "execution_count": null,
   "metadata": {},
   "outputs": [],
   "source": [
    "import json\n",
    "import os\n",
    "import matplotlib.pyplot as plt\n",
    "import pandas as pd\n",
    "import folium\n",
    "import ipinfo\n",
    "import numpy as np"
   ]
  },
  {
   "cell_type": "code",
   "execution_count": null,
   "metadata": {},
   "outputs": [],
   "source": [
    "def parse(filename):\n",
    "    output = []\n",
    "    with open(filename, \"r\") as file:\n",
    "        for line in file.readlines():\n",
    "            try:\n",
    "                output.append(json.loads(line))\n",
    "            except:\n",
    "                pass\n",
    "    return output"
   ]
  },
  {
   "cell_type": "code",
   "execution_count": null,
   "metadata": {},
   "outputs": [],
   "source": [
    "def get_quic_usages(folders):\n",
    "    output = []\n",
    "    for folder in folders:\n",
    "        for subfolder in [f for f in os.listdir(folder) if os.path.isdir(os.path.join(folder, f)) and f.startswith(\"rpm_\")]:\n",
    "            logfile = os.path.join(folder, subfolder, \"proxy.log\")\n",
    "            if os.path.exists(logfile):\n",
    "                try:\n",
    "                    proxy_logs = parse(logfile)\n",
    "                    if len(proxy_logs) > 0:\n",
    "                        n_req = h3 = 0\n",
    "                        for access in proxy_logs:\n",
    "                            if access[\"request\"][\"method\"] == \"GET\" or access[\"request\"][\"method\"] == \"POST\":\n",
    "                                if access[\"request\"][\"proto\"] == \"HTTP/3.0\":\n",
    "                                    h3 += 1\n",
    "                                n_req += 1\n",
    "                        output.append(100*h3/n_req)\n",
    "                except:\n",
    "                    pass\n",
    "    return output\n"
   ]
  },
  {
   "cell_type": "code",
   "execution_count": null,
   "metadata": {},
   "outputs": [],
   "source": [
    "def get_browsers(folders):\n",
    "    df = pd.read_csv(os.path.join(\"data\", \"browsers.csv\"))\n",
    "    return df\n",
    "\n",
    "\n",
    "browsers = get_browsers([\"memoire-vps-output\", \"memoire-vps-output2\"])\n",
    "quic_usages = browsers[\"quic_usage\"].values"
   ]
  },
  {
   "cell_type": "code",
   "execution_count": null,
   "metadata": {},
   "outputs": [],
   "source": [
    "# quic_usages = get_quic_usages([\"memoire-vps-output\", \"memoire-vps-output2\"])"
   ]
  },
  {
   "cell_type": "code",
   "execution_count": null,
   "metadata": {},
   "outputs": [],
   "source": [
    "plt.boxplot(quic_usages)\n",
    "plt.ylabel(\"Percentage (%)\")\n",
    "plt.title(\"Percentage of connection that are using QUIC\")"
   ]
  },
  {
   "cell_type": "code",
   "execution_count": null,
   "metadata": {},
   "outputs": [],
   "source": [
    "sorted_values = np.sort(quic_usages)\n",
    "cdf = np.arange(len(sorted_values)) / len(sorted_values)\n",
    "\n",
    "plt.step(sorted_values, cdf)\n",
    "plt.title(\"CDF of the percentage usage of QUIC connections\")\n",
    "plt.xlabel(\"Percentage of QUIC connections\")\n",
    "plt.ylabel(\"Cumulative Probability\")\n",
    "\n",
    "# plt.xlim(xmin=0)\n",
    "plt.grid()\n",
    "plt.savefig(\"output/quic_usage_cdf.pdf\")"
   ]
  },
  {
   "cell_type": "code",
   "execution_count": null,
   "metadata": {},
   "outputs": [],
   "source": [
    "plt.hist(sorted_values, bins=100)\n",
    "# plt.title(\"Distribution of QUIC usage\")\n",
    "plt.xlabel(\"QUIC usage (%)\")\n",
    "plt.ylabel(\"Number of tests\")\n",
    "plt.savefig(\"output/quic_usage_pdf.pdf\")"
   ]
  },
  {
   "cell_type": "code",
   "execution_count": null,
   "metadata": {},
   "outputs": [],
   "source": [
    "sum([1 for p in quic_usages if p < 50])"
   ]
  }
 ],
 "metadata": {
  "kernelspec": {
   "display_name": ".venv",
   "language": "python",
   "name": "python3"
  },
  "language_info": {
   "codemirror_mode": {
    "name": "ipython",
    "version": 3
   },
   "file_extension": ".py",
   "mimetype": "text/x-python",
   "name": "python",
   "nbconvert_exporter": "python",
   "pygments_lexer": "ipython3",
   "version": "3.11.2"
  },
  "orig_nbformat": 4
 },
 "nbformat": 4,
 "nbformat_minor": 2
}
